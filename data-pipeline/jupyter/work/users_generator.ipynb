{
 "cells": [
  {
   "cell_type": "code",
   "execution_count": 1,
   "id": "df7b86af-4e2f-424f-a6f0-44f0389513d1",
   "metadata": {},
   "outputs": [],
   "source": [
    "import csv\n",
    "from datetime import datetime\n",
    "import os\n",
    "\n",
    "from faker import Faker\n",
    "import paramiko"
   ]
  },
  {
   "cell_type": "code",
   "execution_count": 2,
   "id": "7ec872f8-900a-4555-9502-22c16bc467c4",
   "metadata": {},
   "outputs": [
    {
     "name": "stdout",
     "output_type": "stream",
     "text": [
      "connection established successfully\n",
      "connection closed successfully\n"
     ]
    }
   ],
   "source": [
    "def generate_random_names(num_names):\n",
    "    fake = Faker()\n",
    "    names = [fake.name() for _ in range(num_names)]\n",
    "    return names\n",
    "\n",
    "\n",
    "def save_to_csv(names, filename):\n",
    "    with open(filename, 'w', newline='') as file:\n",
    "        writer = csv.writer(file)\n",
    "        writer.writerow([\"name\"])\n",
    "        for name in names:\n",
    "            writer.writerow([name])\n",
    "\n",
    "\n",
    "def remove_csv(filename):\n",
    "    os.remove(f\"./{filename}\")\n",
    "\n",
    "\n",
    "def send_to_sftp(filename, sftp_details):\n",
    "    ssh_client = paramiko.SSHClient()\n",
    "    ssh_client.set_missing_host_key_policy(paramiko.AutoAddPolicy())\n",
    "    ssh_client.connect(\n",
    "        hostname=sftp_details['host'],\n",
    "        port=sftp_details['port'],\n",
    "        username=sftp_details['username'],\n",
    "        password=sftp_details['password']\n",
    "    )\n",
    "\n",
    "    print('connection established successfully')\n",
    "\n",
    "    # create an SFTP client object\n",
    "    ftp = ssh_client.open_sftp()\n",
    "\n",
    "    # download a file from the remote server\n",
    "    files = ftp.put(filename, f\"./{sftp_details['path']}/{filename}\")\n",
    "\n",
    "    # close the connection\n",
    "    ftp.close()\n",
    "    ssh_client.close()\n",
    "    print('connection closed successfully')\n",
    "\n",
    "\n",
    "def main():\n",
    "    names = generate_random_names(100)  # Generate 100 random names\n",
    "    now = datetime.now()\n",
    "    date_time = now.strftime(\"%Y%m%d-%H%M%S\")\n",
    "    filename = f\"names-{date_time}.csv\"\n",
    "    save_to_csv(names, filename)\n",
    "\n",
    "    sftp_details = {\n",
    "        'host': 'sftp',\n",
    "        'username': 'foo',\n",
    "        'password': 'pass',\n",
    "        'port': 22,\n",
    "        'path': 'upload'\n",
    "    }\n",
    "\n",
    "    send_to_sftp(filename, sftp_details)\n",
    "\n",
    "    remove_csv(filename)\n",
    "\n",
    "\n",
    "# if __name__ == \"__main__\":\n",
    "main()"
   ]
  },
  {
   "cell_type": "code",
   "execution_count": null,
   "id": "3fbf5a1e-e6aa-4a08-9a88-6f86f4dafe9e",
   "metadata": {},
   "outputs": [],
   "source": []
  }
 ],
 "metadata": {
  "kernelspec": {
   "display_name": "Python 3 (ipykernel)",
   "language": "python",
   "name": "python3"
  },
  "language_info": {
   "codemirror_mode": {
    "name": "ipython",
    "version": 3
   },
   "file_extension": ".py",
   "mimetype": "text/x-python",
   "name": "python",
   "nbconvert_exporter": "python",
   "pygments_lexer": "ipython3",
   "version": "3.8.13"
  }
 },
 "nbformat": 4,
 "nbformat_minor": 5
}
